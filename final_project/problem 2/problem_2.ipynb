{
 "cells": [
  {
   "cell_type": "code",
   "execution_count": 1,
   "metadata": {
    "id": "itC8qDjwqBzj"
   },
   "outputs": [],
   "source": [
    "import numpy as np\n",
    "from numpy import random\n",
    "import matplotlib.pyplot as plt\n",
    "from prettytable import PrettyTable"
   ]
  },
  {
   "cell_type": "code",
   "execution_count": 2,
   "metadata": {
    "id": "_Zqdsv79qRU2"
   },
   "outputs": [],
   "source": [
    "def type_of_Excelent (r):\n",
    "    if r<8:\n",
    "        demand=50\n",
    "    elif r<16:\n",
    "         demand=60\n",
    "    elif r<28:\n",
    "         demand=70\n",
    "    elif r<41:\n",
    "         demand=80\n",
    "    elif r<63:\n",
    "         demand=90\n",
    "    elif r<86:\n",
    "         demand=100\n",
    "    elif r<94:\n",
    "         demand=110\n",
    "    else:\n",
    "         demand=120\n",
    "    return demand"
   ]
  },
  {
   "cell_type": "code",
   "execution_count": 3,
   "metadata": {
    "id": "t1a_3ZdNqocZ"
   },
   "outputs": [],
   "source": [
    "def type_of_Good(r):\n",
    "    if r < 7:\n",
    "       demand = 40\n",
    "    elif r<16:\n",
    "         demand = 50\n",
    "    elif r <32:\n",
    "         demand = 60\n",
    "    elif r<51:\n",
    "         demand = 70\n",
    "    elif r <79:\n",
    "         demand = 80\n",
    "    elif r <91:\n",
    "         demand = 90\n",
    "    elif r<98:\n",
    "         demand = 100\n",
    "    else:\n",
    "        demand = 110\n",
    "\n",
    "    return demand"
   ]
  },
  {
   "cell_type": "code",
   "execution_count": 4,
   "metadata": {
    "id": "70h25-vtqscw"
   },
   "outputs": [],
   "source": [
    "def type_of_Fair(r):\n",
    "    if r < 16:\n",
    "       demand = 40\n",
    "    elif r <38:\n",
    "         demand = 50\n",
    "    elif r <66:\n",
    "         demand = 60\n",
    "    elif r< 84:\n",
    "         demand = 70\n",
    "    elif r < 94 :\n",
    "         demand = 80\n",
    "    elif r < 99:\n",
    "         demand = 90\n",
    "    else:\n",
    "        demand = 100\n",
    "    return demand"
   ]
  },
  {
   "cell_type": "code",
   "execution_count": 5,
   "metadata": {
    "id": "xPTU3gPRqxT_"
   },
   "outputs": [],
   "source": [
    "def type_of_Poor(r):\n",
    "    if r < 43:\n",
    "        demand = 40\n",
    "    elif r < 71:\n",
    "        demand = 50\n",
    "    elif r < 85:\n",
    "        demand = 60\n",
    "    elif r < 95:\n",
    "        demand = 70\n",
    "    elif r < 100:\n",
    "        demand = 80\n",
    "    else:\n",
    "        demand = 90\n",
    "\n",
    "    return demand"
   ]
  },
  {
   "cell_type": "code",
   "execution_count": 6,
   "metadata": {
    "id": "xRoDLvGTq0Hy"
   },
   "outputs": [],
   "source": [
    "def get_type(r):\n",
    "    if r < 19:\n",
    "       typ = \"Excelent\"\n",
    "    elif r <61:\n",
    "         typ = \"Good\"\n",
    "    elif r < 93:\n",
    "         typ = \"Fair\"\n",
    "    else:\n",
    "         typ = \"Poor\"\n",
    "    return typ"
   ]
  },
  {
   "cell_type": "code",
   "execution_count": 7,
   "metadata": {
    "id": "93h-Jcg5q3FN"
   },
   "outputs": [],
   "source": [
    "def defined(s,r):\n",
    "    if s == \"Excelent\":\n",
    "        t = type_of_Excelent(r)\n",
    "    elif s == \"Good\":\n",
    "        t = type_of_Good(r)\n",
    "    elif s == \"Fair\":\n",
    "        t = type_of_Fair(r)\n",
    "    else:\n",
    "        t = type_of_Poor(r)\n",
    "    return t"
   ]
  },
  {
   "cell_type": "code",
   "execution_count": 8,
   "metadata": {
    "id": "KQMQxdG3rBXi"
   },
   "outputs": [],
   "source": [
    "DailyProfit = list()\n",
    "TypeOfNewsday = list()\n",
    "Demand = list()\n",
    "RevenueFromSales = list()\n",
    "LostProfit = list()\n",
    "Salvage = list()\n",
    "Cost = list()\n",
    "Avg_profit =list()\n",
    "random_digit_for_type = list()\n",
    "random_digit_for_demand = list()\n",
    "num_p = list()\n",
    "average_salvage_list = list()\n",
    "average_Lost_profit_list = list()\n",
    "average_revenue_from_sales_list = list()\n",
    "total_profit_list = list()\n",
    "T_profit_from_pandels = list()\n",
    "Avg_Avg_profit = list()"
   ]
  },
  {
   "cell_type": "code",
   "execution_count": 9,
   "metadata": {
    "colab": {
     "base_uri": "https://localhost:8080/"
    },
    "id": "lDiSk41WsY9-",
    "outputId": "8818f653-77b4-4fd3-89c0-a394a222c2d1"
   },
   "outputs": [
    {
     "name": "stdout",
     "output_type": "stream",
     "text": [
      "+-----+-------------+-----------------------+---------------+-------------------------+--------+------------------+------------+---------+------+--------------+\n",
      "| Day | Num Pandals | Random digit for type | TypeOfNewsday | Random digit for demand | Demand | RevenueFromSales | LostProfit | Salvage | Cost | Daily Profit |\n",
      "+-----+-------------+-----------------------+---------------+-------------------------+--------+------------------+------------+---------+------+--------------+\n",
      "|  1  |      40     |           39          |      Good     |            66           |   80   |       56.0       |    8.0     |    0    | 20.0 |     28.0     |\n",
      "|  2  |      40     |           62          |      Fair     |            70           |   70   |       49.0       |    6.0     |    0    | 20.0 |     23.0     |\n",
      "|  3  |      40     |           23          |      Good     |            88           |   90   |       63.0       |    10.0    |    0    | 20.0 |     33.0     |\n",
      "|  4  |      40     |           43          |      Good     |            59           |   80   |       56.0       |    8.0     |    0    | 20.0 |     28.0     |\n",
      "|  5  |      40     |           10          |    Excelent   |            88           |  110   |       77.0       |    14.0    |    0    | 20.0 |     43.0     |\n",
      "|  6  |      40     |           28          |      Good     |            49           |   70   |       49.0       |    6.0     |    0    | 20.0 |     23.0     |\n",
      "|  7  |      40     |           30          |      Good     |            32           |   70   |       49.0       |    6.0     |    0    | 20.0 |     23.0     |\n",
      "|  8  |      40     |           9           |    Excelent   |            41           |   90   |       63.0       |    10.0    |    0    | 20.0 |     33.0     |\n",
      "|  9  |      40     |           4           |    Excelent   |            71           |  100   |       70.0       |    12.0    |    0    | 20.0 |     38.0     |\n",
      "|  10 |      40     |           28          |      Good     |            96           |  100   |       70.0       |    12.0    |    0    | 20.0 |     38.0     |\n",
      "|  11 |      40     |           96          |      Poor     |            82           |   60   |       42.0       |    4.0     |    0    | 20.0 |     18.0     |\n",
      "|  12 |      40     |           98          |      Poor     |            64           |   50   |       35.0       |    2.0     |    0    | 20.0 |     13.0     |\n",
      "|  13 |      40     |           39          |      Good     |            60           |   80   |       56.0       |    8.0     |    0    | 20.0 |     28.0     |\n",
      "|  14 |      40     |           80          |      Fair     |            45           |   60   |       42.0       |    4.0     |    0    | 20.0 |     18.0     |\n",
      "|  15 |      40     |           66          |      Fair     |            75           |   70   |       49.0       |    6.0     |    0    | 20.0 |     23.0     |\n",
      "|  16 |      40     |           79          |      Fair     |            88           |   80   |       56.0       |    8.0     |    0    | 20.0 |     28.0     |\n",
      "|  17 |      40     |           70          |      Fair     |            32           |   50   |       35.0       |    2.0     |    0    | 20.0 |     13.0     |\n",
      "|  18 |      40     |           22          |      Good     |            9            |   50   |       35.0       |    2.0     |    0    | 20.0 |     13.0     |\n",
      "|  19 |      40     |           14          |    Excelent   |            37           |   80   |       56.0       |    8.0     |    0    | 20.0 |     28.0     |\n",
      "|  20 |      40     |           76          |      Fair     |            20           |   50   |       35.0       |    2.0     |    0    | 20.0 |     13.0     |\n",
      "|  21 |      40     |           16          |    Excelent   |            84           |  100   |       70.0       |    12.0    |    0    | 20.0 |     38.0     |\n",
      "|  22 |      40     |           27          |      Good     |            64           |   80   |       56.0       |    8.0     |    0    | 20.0 |     28.0     |\n",
      "|  23 |      40     |           37          |      Good     |            76           |   80   |       56.0       |    8.0     |    0    | 20.0 |     28.0     |\n",
      "|  24 |      40     |           43          |      Good     |            21           |   60   |       42.0       |    4.0     |    0    | 20.0 |     18.0     |\n",
      "|  25 |      40     |           12          |    Excelent   |            24           |   70   |       49.0       |    6.0     |    0    | 20.0 |     23.0     |\n",
      "|  26 |      40     |           36          |      Good     |            46           |   70   |       49.0       |    6.0     |    0    | 20.0 |     23.0     |\n",
      "|  27 |      40     |           57          |      Good     |            7            |   50   |       35.0       |    2.0     |    0    | 20.0 |     13.0     |\n",
      "|  28 |      40     |           15          |    Excelent   |            33           |   80   |       56.0       |    8.0     |    0    | 20.0 |     28.0     |\n",
      "|  29 |      40     |           20          |      Good     |            50           |   70   |       49.0       |    6.0     |    0    | 20.0 |     23.0     |\n",
      "|  30 |      40     |           64          |      Fair     |            23           |   50   |       35.0       |    2.0     |    0    | 20.0 |     13.0     |\n",
      "+-----+-------------+-----------------------+---------------+-------------------------+--------+------------------+------------+---------+------+--------------+\n",
      "+-----+-------------+-----------------------+---------------+-------------------------+--------+------------------+------------+---------+------+--------------+\n",
      "| Day | Num Pandals | Random digit for type | TypeOfNewsday | Random digit for demand | Demand | RevenueFromSales | LostProfit | Salvage | Cost | Daily Profit |\n",
      "+-----+-------------+-----------------------+---------------+-------------------------+--------+------------------+------------+---------+------+--------------+\n",
      "|  1  |      60     |           2           |    Excelent   |            7            |   50   |       35.0       |     0      |   1.5   | 30.0 |     6.5      |\n",
      "|  2  |      60     |           66          |      Fair     |            55           |   60   |       42.0       |    0.0     |    0    | 30.0 |     12.0     |\n",
      "|  3  |      60     |           80          |      Fair     |            91           |   80   |       56.0       |    4.0     |    0    | 30.0 |     22.0     |\n",
      "|  4  |      60     |           78          |      Fair     |            10           |   40   |       28.0       |     0      |   3.0   | 30.0 |     1.0      |\n",
      "|  5  |      60     |           45          |      Good     |            30           |   60   |       42.0       |    0.0     |    0    | 30.0 |     12.0     |\n",
      "|  6  |      60     |           99          |      Poor     |            99           |   80   |       56.0       |    4.0     |    0    | 30.0 |     22.0     |\n",
      "|  7  |      60     |           81          |      Fair     |            41           |   60   |       42.0       |    0.0     |    0    | 30.0 |     12.0     |\n",
      "|  8  |      60     |           7           |    Excelent   |            83           |  100   |       70.0       |    8.0     |    0    | 30.0 |     32.0     |\n",
      "|  9  |      60     |           65          |      Fair     |            81           |   70   |       49.0       |    2.0     |    0    | 30.0 |     17.0     |\n",
      "|  10 |      60     |           97          |      Poor     |            52           |   50   |       35.0       |     0      |   1.5   | 30.0 |     6.5      |\n",
      "|  11 |      60     |           26          |      Good     |            51           |   80   |       56.0       |    4.0     |    0    | 30.0 |     22.0     |\n",
      "|  12 |      60     |           77          |      Fair     |            91           |   80   |       56.0       |    4.0     |    0    | 30.0 |     22.0     |\n",
      "|  13 |      60     |           32          |      Good     |            82           |   90   |       63.0       |    6.0     |    0    | 30.0 |     27.0     |\n",
      "|  14 |      60     |           91          |      Fair     |            23           |   50   |       35.0       |     0      |   1.5   | 30.0 |     6.5      |\n",
      "|  15 |      60     |           90          |      Fair     |            35           |   50   |       35.0       |     0      |   1.5   | 30.0 |     6.5      |\n",
      "|  16 |      60     |           22          |      Good     |            4            |   40   |       28.0       |     0      |   3.0   | 30.0 |     1.0      |\n",
      "|  17 |      60     |           88          |      Fair     |            34           |   50   |       35.0       |     0      |   1.5   | 30.0 |     6.5      |\n",
      "|  18 |      60     |           99          |      Poor     |            34           |   40   |       28.0       |     0      |   3.0   | 30.0 |     1.0      |\n",
      "|  19 |      60     |           69          |      Fair     |            25           |   50   |       35.0       |     0      |   1.5   | 30.0 |     6.5      |\n",
      "|  20 |      60     |           8           |    Excelent   |            88           |  110   |       77.0       |    10.0    |    0    | 30.0 |     37.0     |\n",
      "|  21 |      60     |           79          |      Fair     |            44           |   60   |       42.0       |    0.0     |    0    | 30.0 |     12.0     |\n",
      "|  22 |      60     |           54          |      Good     |            57           |   80   |       56.0       |    4.0     |    0    | 30.0 |     22.0     |\n",
      "|  23 |      60     |           84          |      Fair     |            33           |   50   |       35.0       |     0      |   1.5   | 30.0 |     6.5      |\n",
      "|  24 |      60     |           78          |      Fair     |            28           |   50   |       35.0       |     0      |   1.5   | 30.0 |     6.5      |\n",
      "|  25 |      60     |           29          |      Good     |            57           |   80   |       56.0       |    4.0     |    0    | 30.0 |     22.0     |\n",
      "|  26 |      60     |           53          |      Good     |            33           |   70   |       49.0       |    2.0     |    0    | 30.0 |     17.0     |\n",
      "|  27 |      60     |           81          |      Fair     |            48           |   60   |       42.0       |    0.0     |    0    | 30.0 |     12.0     |\n",
      "|  28 |      60     |           25          |      Good     |            47           |   70   |       49.0       |    2.0     |    0    | 30.0 |     17.0     |\n",
      "|  29 |      60     |           84          |      Fair     |            57           |   60   |       42.0       |    0.0     |    0    | 30.0 |     12.0     |\n",
      "|  30 |      60     |           22          |      Good     |            65           |   80   |       56.0       |    4.0     |    0    | 30.0 |     22.0     |\n",
      "+-----+-------------+-----------------------+---------------+-------------------------+--------+------------------+------------+---------+------+--------------+\n",
      "+-----+-------------+-----------------------+---------------+-------------------------+--------+------------------+------------+---------+------+--------------+\n",
      "| Day | Num Pandals | Random digit for type | TypeOfNewsday | Random digit for demand | Demand | RevenueFromSales | LostProfit | Salvage | Cost | Daily Profit |\n",
      "+-----+-------------+-----------------------+---------------+-------------------------+--------+------------------+------------+---------+------+--------------+\n",
      "|  1  |      80     |           97          |      Poor     |            73           |   60   |       42.0       |     0      |   3.0   | 40.0 |     5.0      |\n",
      "|  2  |      80     |           79          |      Fair     |            66           |   70   |       49.0       |     0      |   1.5   | 40.0 |     10.5     |\n",
      "|  3  |      80     |           14          |    Excelent   |            27           |   70   |       49.0       |     0      |   1.5   | 40.0 |     10.5     |\n",
      "|  4  |      80     |           69          |      Fair     |            44           |   60   |       42.0       |     0      |   3.0   | 40.0 |     5.0      |\n",
      "|  5  |      80     |           45          |      Good     |            88           |   90   |       63.0       |    2.0     |    0    | 40.0 |     21.0     |\n",
      "|  6  |      80     |           71          |      Fair     |            9            |   40   |       28.0       |     0      |   6.0   | 40.0 |     -6.0     |\n",
      "|  7  |      80     |           5           |    Excelent   |            26           |   70   |       49.0       |     0      |   1.5   | 40.0 |     10.5     |\n",
      "|  8  |      80     |           16          |    Excelent   |            25           |   70   |       49.0       |     0      |   1.5   | 40.0 |     10.5     |\n",
      "|  9  |      80     |           6           |    Excelent   |            4            |   50   |       35.0       |     0      |   4.5   | 40.0 |     -0.5     |\n",
      "|  10 |      80     |           53          |      Good     |            31           |   60   |       42.0       |     0      |   3.0   | 40.0 |     5.0      |\n",
      "|  11 |      80     |           2           |    Excelent   |            57           |   90   |       63.0       |    2.0     |    0    | 40.0 |     21.0     |\n",
      "|  12 |      80     |           37          |      Good     |            35           |   70   |       49.0       |     0      |   1.5   | 40.0 |     10.5     |\n",
      "|  13 |      80     |           93          |      Poor     |            90           |   70   |       49.0       |     0      |   1.5   | 40.0 |     10.5     |\n",
      "|  14 |      80     |           37          |      Good     |            71           |   80   |       56.0       |    0.0     |    0    | 40.0 |     16.0     |\n",
      "|  15 |      80     |           59          |      Good     |            43           |   70   |       49.0       |     0      |   1.5   | 40.0 |     10.5     |\n",
      "|  16 |      80     |           67          |      Fair     |            21           |   50   |       35.0       |     0      |   4.5   | 40.0 |     -0.5     |\n",
      "|  17 |      80     |           41          |      Good     |            69           |   80   |       56.0       |    0.0     |    0    | 40.0 |     16.0     |\n",
      "|  18 |      80     |           57          |      Good     |            24           |   60   |       42.0       |     0      |   3.0   | 40.0 |     5.0      |\n",
      "|  19 |      80     |           21          |      Good     |            69           |   80   |       56.0       |    0.0     |    0    | 40.0 |     16.0     |\n",
      "|  20 |      80     |           82          |      Fair     |            3            |   40   |       28.0       |     0      |   6.0   | 40.0 |     -6.0     |\n",
      "|  21 |      80     |           75          |      Fair     |            94           |   90   |       63.0       |    2.0     |    0    | 40.0 |     21.0     |\n",
      "|  22 |      80     |           43          |      Good     |            30           |   60   |       42.0       |     0      |   3.0   | 40.0 |     5.0      |\n",
      "|  23 |      80     |           26          |      Good     |            11           |   50   |       35.0       |     0      |   4.5   | 40.0 |     -0.5     |\n",
      "|  24 |      80     |           57          |      Good     |            4            |   40   |       28.0       |     0      |   6.0   | 40.0 |     -6.0     |\n",
      "|  25 |      80     |           87          |      Fair     |            91           |   80   |       56.0       |    0.0     |    0    | 40.0 |     16.0     |\n",
      "|  26 |      80     |           29          |      Good     |            23           |   60   |       42.0       |     0      |   3.0   | 40.0 |     5.0      |\n",
      "|  27 |      80     |           27          |      Good     |            51           |   80   |       56.0       |    0.0     |    0    | 40.0 |     16.0     |\n",
      "|  28 |      80     |           81          |      Fair     |            36           |   50   |       35.0       |     0      |   4.5   | 40.0 |     -0.5     |\n",
      "|  29 |      80     |           23          |      Good     |            41           |   70   |       49.0       |     0      |   1.5   | 40.0 |     10.5     |\n",
      "|  30 |      80     |           74          |      Fair     |            96           |   90   |       63.0       |    2.0     |    0    | 40.0 |     21.0     |\n",
      "+-----+-------------+-----------------------+---------------+-------------------------+--------+------------------+------------+---------+------+--------------+\n",
      "+-----+-------------+-----------------------+---------------+-------------------------+--------+------------------+------------+---------+------+--------------+\n",
      "| Day | Num Pandals | Random digit for type | TypeOfNewsday | Random digit for demand | Demand | RevenueFromSales | LostProfit | Salvage | Cost | Daily Profit |\n",
      "+-----+-------------+-----------------------+---------------+-------------------------+--------+------------------+------------+---------+------+--------------+\n",
      "|  1  |     100     |           92          |      Fair     |            91           |   80   |       56.0       |     0      |   3.0   | 50.0 |     9.0      |\n",
      "|  2  |     100     |           83          |      Fair     |            8            |   40   |       28.0       |     0      |   9.0   | 50.0 |    -13.0     |\n",
      "|  3  |     100     |           75          |      Fair     |            11           |   40   |       28.0       |     0      |   9.0   | 50.0 |    -13.0     |\n",
      "|  4  |     100     |           64          |      Fair     |            82           |   70   |       49.0       |     0      |   4.5   | 50.0 |     3.5      |\n",
      "|  5  |     100     |           77          |      Fair     |            57           |   60   |       42.0       |     0      |   6.0   | 50.0 |     -2.0     |\n",
      "|  6  |     100     |           54          |      Good     |            4            |   40   |       28.0       |     0      |   9.0   | 50.0 |    -13.0     |\n",
      "|  7  |     100     |           66          |      Fair     |            8            |   40   |       28.0       |     0      |   9.0   | 50.0 |    -13.0     |\n",
      "|  8  |     100     |           59          |      Good     |            14           |   50   |       35.0       |     0      |   7.5   | 50.0 |     -7.5     |\n",
      "|  9  |     100     |           30          |      Good     |            52           |   80   |       56.0       |     0      |   3.0   | 50.0 |     9.0      |\n",
      "|  10 |     100     |           65          |      Fair     |            80           |   70   |       49.0       |     0      |   4.5   | 50.0 |     3.5      |\n",
      "|  11 |     100     |           40          |      Good     |            47           |   70   |       49.0       |     0      |   4.5   | 50.0 |     3.5      |\n",
      "|  12 |     100     |           85          |      Fair     |            97           |   90   |       63.0       |     0      |   1.5   | 50.0 |     14.5     |\n",
      "|  13 |     100     |           43          |      Good     |            10           |   50   |       35.0       |     0      |   7.5   | 50.0 |     -7.5     |\n",
      "|  14 |     100     |           86          |      Fair     |            37           |   50   |       35.0       |     0      |   7.5   | 50.0 |     -7.5     |\n",
      "|  15 |     100     |           98          |      Poor     |            57           |   50   |       35.0       |     0      |   7.5   | 50.0 |     -7.5     |\n",
      "|  16 |     100     |           66          |      Fair     |            8            |   40   |       28.0       |     0      |   9.0   | 50.0 |    -13.0     |\n",
      "|  17 |     100     |           86          |      Fair     |            98           |   90   |       63.0       |     0      |   1.5   | 50.0 |     14.5     |\n",
      "|  18 |     100     |           49          |      Good     |            43           |   70   |       49.0       |     0      |   4.5   | 50.0 |     3.5      |\n",
      "|  19 |     100     |           42          |      Good     |            83           |   90   |       63.0       |     0      |   1.5   | 50.0 |     14.5     |\n",
      "|  20 |     100     |           81          |      Fair     |            58           |   60   |       42.0       |     0      |   6.0   | 50.0 |     -2.0     |\n",
      "|  21 |     100     |           20          |      Good     |            31           |   60   |       42.0       |     0      |   6.0   | 50.0 |     -2.0     |\n",
      "|  22 |     100     |           61          |      Fair     |            78           |   70   |       49.0       |     0      |   4.5   | 50.0 |     3.5      |\n",
      "|  23 |     100     |           80          |      Fair     |            17           |   50   |       35.0       |     0      |   7.5   | 50.0 |     -7.5     |\n",
      "|  24 |     100     |           93          |      Poor     |            89           |   70   |       49.0       |     0      |   4.5   | 50.0 |     3.5      |\n",
      "|  25 |     100     |           24          |      Good     |            82           |   90   |       63.0       |     0      |   1.5   | 50.0 |     14.5     |\n",
      "|  26 |     100     |           3           |    Excelent   |            73           |  100   |       70.0       |    0.0     |    0    | 50.0 |     20.0     |\n",
      "|  27 |     100     |           18          |    Excelent   |            20           |   70   |       49.0       |     0      |   4.5   | 50.0 |     3.5      |\n",
      "|  28 |     100     |           79          |      Fair     |            28           |   50   |       35.0       |     0      |   7.5   | 50.0 |     -7.5     |\n",
      "|  29 |     100     |           37          |      Good     |            17           |   60   |       42.0       |     0      |   6.0   | 50.0 |     -2.0     |\n",
      "|  30 |     100     |           41          |      Good     |            86           |   90   |       63.0       |     0      |   1.5   | 50.0 |     14.5     |\n",
      "+-----+-------------+-----------------------+---------------+-------------------------+--------+------------------+------------+---------+------+--------------+\n",
      "+-----+-------------+-----------------------+---------------+-------------------------+--------+------------------+------------+---------+------+--------------+\n",
      "| Day | Num Pandals | Random digit for type | TypeOfNewsday | Random digit for demand | Demand | RevenueFromSales | LostProfit | Salvage | Cost | Daily Profit |\n",
      "+-----+-------------+-----------------------+---------------+-------------------------+--------+------------------+------------+---------+------+--------------+\n",
      "|  1  |     120     |           47          |      Good     |            32           |   70   |       49.0       |     0      |   7.5   | 60.0 |     -3.5     |\n",
      "|  2  |     120     |           57          |      Good     |            27           |   60   |       42.0       |     0      |   9.0   | 60.0 |     -9.0     |\n",
      "|  3  |     120     |           43          |      Good     |            84           |   90   |       63.0       |     0      |   4.5   | 60.0 |     7.5      |\n",
      "|  4  |     120     |           26          |      Good     |            34           |   70   |       49.0       |     0      |   7.5   | 60.0 |     -3.5     |\n",
      "|  5  |     120     |           3           |    Excelent   |            67           |  100   |       70.0       |     0      |   3.0   | 60.0 |     13.0     |\n",
      "|  6  |     120     |           66          |      Fair     |            85           |   80   |       56.0       |     0      |   6.0   | 60.0 |     2.0      |\n",
      "|  7  |     120     |           7           |    Excelent   |            13           |   60   |       42.0       |     0      |   9.0   | 60.0 |     -9.0     |\n",
      "|  8  |     120     |           86          |      Fair     |            54           |   60   |       42.0       |     0      |   9.0   | 60.0 |     -9.0     |\n",
      "|  9  |     120     |           65          |      Fair     |            87           |   80   |       56.0       |     0      |   6.0   | 60.0 |     2.0      |\n",
      "|  10 |     120     |           68          |      Fair     |            59           |   60   |       42.0       |     0      |   9.0   | 60.0 |     -9.0     |\n",
      "|  11 |     120     |           94          |      Poor     |            57           |   50   |       35.0       |     0      |   10.5  | 60.0 |    -14.5     |\n",
      "|  12 |     120     |           87          |      Fair     |            59           |   60   |       42.0       |     0      |   9.0   | 60.0 |     -9.0     |\n",
      "|  13 |     120     |           23          |      Good     |            65           |   80   |       56.0       |     0      |   6.0   | 60.0 |     2.0      |\n",
      "|  14 |     120     |           54          |      Good     |            6            |   40   |       28.0       |     0      |   12.0  | 60.0 |    -20.0     |\n",
      "|  15 |     120     |           51          |      Good     |            44           |   70   |       49.0       |     0      |   7.5   | 60.0 |     -3.5     |\n",
      "|  16 |     120     |           96          |      Poor     |            23           |   40   |       28.0       |     0      |   12.0  | 60.0 |    -20.0     |\n",
      "|  17 |     120     |           9           |    Excelent   |            86           |  110   |       77.0       |     0      |   1.5   | 60.0 |     18.5     |\n",
      "|  18 |     120     |           93          |      Poor     |            48           |   50   |       35.0       |     0      |   10.5  | 60.0 |    -14.5     |\n",
      "|  19 |     120     |           49          |      Good     |            61           |   80   |       56.0       |     0      |   6.0   | 60.0 |     2.0      |\n",
      "|  20 |     120     |           19          |      Good     |            90           |   90   |       63.0       |     0      |   4.5   | 60.0 |     7.5      |\n",
      "|  21 |     120     |           86          |      Fair     |            92           |   80   |       56.0       |     0      |   6.0   | 60.0 |     2.0      |\n",
      "|  22 |     120     |           33          |      Good     |            32           |   70   |       49.0       |     0      |   7.5   | 60.0 |     -3.5     |\n",
      "|  23 |     120     |           13          |    Excelent   |            71           |  100   |       70.0       |     0      |   3.0   | 60.0 |     13.0     |\n",
      "|  24 |     120     |           76          |      Fair     |            95           |   90   |       63.0       |     0      |   4.5   | 60.0 |     7.5      |\n",
      "|  25 |     120     |           17          |    Excelent   |            39           |   80   |       56.0       |     0      |   6.0   | 60.0 |     2.0      |\n",
      "|  26 |     120     |           83          |      Fair     |            19           |   50   |       35.0       |     0      |   10.5  | 60.0 |    -14.5     |\n",
      "|  27 |     120     |           93          |      Poor     |            86           |   70   |       49.0       |     0      |   7.5   | 60.0 |     -3.5     |\n",
      "|  28 |     120     |           4           |    Excelent   |            95           |  120   |       84.0       |    0.0     |    0    | 60.0 |     24.0     |\n",
      "|  29 |     120     |           28          |      Good     |            37           |   70   |       49.0       |     0      |   7.5   | 60.0 |     -3.5     |\n",
      "|  30 |     120     |           0           |    Excelent   |            13           |   60   |       42.0       |     0      |   9.0   | 60.0 |     -9.0     |\n",
      "+-----+-------------+-----------------------+---------------+-------------------------+--------+------------------+------------+---------+------+--------------+\n"
     ]
    }
   ],
   "source": [
    "num_pandels = [40, 60, 80,100,120]\n",
    "num_of_day = 30\n",
    "#list for num of pandels \n",
    "for i in num_pandels:\n",
    "    \n",
    "  for k in range(400):\n",
    "    #make clear for all lists\n",
    "    DailyProfit.clear()\n",
    "    TypeOfNewsday.clear()\n",
    "    Demand.clear()\n",
    "    RevenueFromSales.clear()\n",
    "    LostProfit.clear()\n",
    "    Salvage.clear()\n",
    "    Cost.clear()\n",
    "    random_digit_for_type.clear()\n",
    "    random_digit_for_demand.clear()\n",
    "    num_p.clear()\n",
    "    \n",
    "    #we calculate the profit in dollar not in cents \n",
    "    for j in range(num_of_day):\n",
    "      random_to_type = random.randint(100)\n",
    "      random_to_demand = random.randint(100)\n",
    "      typ = get_type(random_to_type)\n",
    "      demand = defined(typ,random_to_demand)\n",
    "      revenue_from_sales_day = round(0.7 * demand,2)\n",
    "      cost_day = 0.5 * i\n",
    "      if demand < i:\n",
    "        lost_profit_day = 0\n",
    "        salvage_day = 0.15 * (i-demand)\n",
    "      else:\n",
    "        salvage_day = 0\n",
    "        lost_profit_day = 0.2 * (demand - i)\n",
    "      profit = revenue_from_sales_day - cost_day - lost_profit_day + salvage_day\n",
    "      num_p.append(i)\n",
    "      DailyProfit.append(profit)\n",
    "      TypeOfNewsday.append(typ)\n",
    "      Demand.append(demand)\n",
    "      RevenueFromSales.append(revenue_from_sales_day)\n",
    "      LostProfit.append(lost_profit_day)\n",
    "      Salvage.append(salvage_day)\n",
    "      Cost.append(cost_day)\n",
    "      random_digit_for_type.append(random_to_type)\n",
    "      random_digit_for_demand.append(random_to_demand)\n",
    "    if i==40:\n",
    "      total_profit = sum(DailyProfit)\n",
    "      total_profit_list.append(total_profit)\n",
    "  t = PrettyTable(['Day','Num Pandals','Random digit for type','TypeOfNewsday','Random digit for demand','Demand','RevenueFromSales','LostProfit','Salvage','Cost','Daily Profit'])\n",
    "  for i in range(num_of_day):\n",
    "      t.add_row([i+1,num_p[i],random_digit_for_type[i],TypeOfNewsday[i],random_digit_for_demand[i],Demand[i],RevenueFromSales[i],LostProfit[i],Salvage[i],Cost[i],DailyProfit[i]])\n",
    "  print(t)\n",
    "  average_profit = sum(DailyProfit)/len(DailyProfit)\n",
    "  average_salvage = sum(Salvage)/len(Salvage)\n",
    "  average_Lost_profit = sum(LostProfit)/len(LostProfit)\n",
    "  average_revenue_from_sales = sum(RevenueFromSales)/len(RevenueFromSales)\n",
    "  average_salvage_list.append(average_salvage)\n",
    "  average_Lost_profit_list.append(average_Lost_profit)\n",
    "  average_revenue_from_sales_list.append(average_revenue_from_sales)\n",
    "  Avg_profit.append(average_profit)\n",
    "  T_profit_from_pandels.append(sum(DailyProfit))"
   ]
  },
  {
   "cell_type": "code",
   "execution_count": 11,
   "metadata": {
    "colab": {
     "base_uri": "https://localhost:8080/"
    },
    "id": "Uh0r0mdZ-3UA",
    "outputId": "7e67e62e-222f-4a1d-ad56-fcdf60e4870d"
   },
   "outputs": [
    {
     "name": "stdout",
     "output_type": "stream",
     "text": [
      "+----------------+-----------------+---------------------+-----------------+----------------+\n",
      "| Num of pandels | Average Revenue | Average lost profit | Average Salvage | Average profit |\n",
      "+----------------+-----------------+---------------------+-----------------+----------------+\n",
      "|       40       |      51.33      |         6.67        |       0.0       |     24.67      |\n",
      "|       60       |       45.5      |         1.93        |       0.7       |     14.27      |\n",
      "|       80       |      46.67      |         0.27        |       2.2       |      8.6       |\n",
      "|      100       |      45.27      |         0.0         |       5.3       |      0.57      |\n",
      "|      120       |       51.1      |         0.0         |       7.05      |     -1.85      |\n",
      "+----------------+-----------------+---------------------+-----------------+----------------+\n"
     ]
    }
   ],
   "source": [
    "t = PrettyTable(['Num of pandels','Average Revenue','Average lost profit','Average Salvage','Average profit'])\n",
    "for i in range(len(Avg_profit)):\n",
    "    t.add_row([num_pandels[i],round(average_revenue_from_sales_list[i],2),round(average_Lost_profit_list[i],2),round(average_salvage_list[i],2),round(Avg_profit[i],2)])\n",
    "print(t)"
   ]
  },
  {
   "cell_type": "code",
   "execution_count": 12,
   "metadata": {
    "colab": {
     "base_uri": "https://localhost:8080/",
     "height": 1000
    },
    "id": "csJrek2R8fLv",
    "outputId": "ab5c4b53-e1c0-4ff1-b7f3-bcd5fe0d72e0"
   },
   "outputs": [
    {
     "data": {
      "image/png": "[encoded data removed]",
      "text/plain": [
       "<Figure size 432x288 with 1 Axes>"
      ]
     },
     "metadata": {
      "needs_background": "light"
     },
     "output_type": "display_data"
    },
    {
     "data": {
      "image/png": "[encoded data removed]",
      "text/plain": [
       "<Figure size 432x288 with 1 Axes>"
      ]
     },
     "metadata": {
      "needs_background": "light"
     },
     "output_type": "display_data"
    },
    {
     "data": {
      "image/png": "[encoded data removed]",
      "text/plain": [
       "<Figure size 432x288 with 1 Axes>"
      ]
     },
     "metadata": {
      "needs_background": "light"
     },
     "output_type": "display_data"
    },
    {
     "data": {
      "image/png": "[encoded data removed]",
      "text/plain": [
       "<Figure size 432x288 with 1 Axes>"
      ]
     },
     "metadata": {
      "needs_background": "light"
     },
     "output_type": "display_data"
    }
   ],
   "source": [
    "plt.plot(RevenueFromSales,DailyProfit)\n",
    "plt.xlabel('Revenue From Sales')\n",
    "plt.ylabel('Daily Profit')\n",
    "plt.title('My first graph!')\n",
    "plt.show()\n",
    "\n",
    "plt.plot(Salvage,DailyProfit)\n",
    "plt.xlabel('Salvage')\n",
    "plt.ylabel('DailyProfit')\n",
    "plt.title('My first graph!')\n",
    "plt.show()\n",
    "\n",
    "plt.plot(num_pandels,T_profit_from_pandels)\n",
    "plt.xlabel('Num pandels')\n",
    "plt.ylabel('Avg profit')\n",
    "plt.title('My first graph!')\n",
    "plt.show()\n",
    "\n",
    "# plotting a histogram\n",
    "plt.hist(total_profit_list, bins=10, color = 'green',histtype = 'bar', rwidth = 0.8)\n",
    "plt.xlabel('total profit')\n",
    "plt.ylabel('No. of trails')\n",
    "plt.title('My histogram')\n",
    "plt.show()"
   ]
  }
 ],
 "metadata": {
  "colab": {
   "provenance": []
  },
  "kernelspec": {
   "display_name": "Python 3 (ipykernel)",
   "language": "python",
   "name": "python3"
  },
  "language_info": {
   "codemirror_mode": {
    "name": "ipython",
    "version": 3
   },
   "file_extension": ".py",
   "mimetype": "text/x-python",
   "name": "python",
   "nbconvert_exporter": "python",
   "pygments_lexer": "ipython3",
   "version": "3.9.13"
  }
 },
 "nbformat": 4,
 "nbformat_minor": 1
}
